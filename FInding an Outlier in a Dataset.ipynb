{
 "cells": [
  {
   "cell_type": "code",
   "execution_count": 1,
   "id": "c59ae9d0",
   "metadata": {},
   "outputs": [],
   "source": [
    "import numpy as np\n",
    "import matplotlib.pyplot as plt\n",
    "%matplotlib inline"
   ]
  },
  {
   "cell_type": "markdown",
   "id": "dec9bfb0",
   "metadata": {},
   "source": [
    "### An outlier is a data point in a data set that is distant from all other observations. A data point that lies outside the overall distribution of the dataset"
   ]
  },
  {
   "cell_type": "code",
   "execution_count": 3,
   "id": "519de787",
   "metadata": {},
   "outputs": [],
   "source": [
    "# what are the criteria to identify an outlier\n",
    "# data point that falls outside of 1.5 times of an interquartile \n",
    "#range above the 3rd quartile and below the 1st quartile\n",
    "\n",
    "# data point that falls outside of 3 standard deviations. we can \n",
    "#use a z score and if the z score falls outside of 2 standard deviation\n"
   ]
  },
  {
   "cell_type": "markdown",
   "id": "231d2444",
   "metadata": {},
   "source": [
    "# what is the reason for an outlier to exist in a dataset\n",
    "\n",
    "1. variablitiy in the data\n",
    "2. an experiment measurement error"
   ]
  },
  {
   "cell_type": "markdown",
   "id": "640aca49",
   "metadata": {},
   "source": [
    "# impact of having outliers\n",
    "1. may cause statistical errors\n",
    "2. significant impact on mean and the standard deviation"
   ]
  },
  {
   "cell_type": "markdown",
   "id": "daee970a",
   "metadata": {},
   "source": [
    "# ways of finding the outlier\n",
    "1. using scatterplot\n",
    "2. box plot\n",
    "3. using z score\n",
    "4. using the IQR interquantile range"
   ]
  },
  {
   "cell_type": "code",
   "execution_count": 27,
   "id": "c2d112e5",
   "metadata": {},
   "outputs": [],
   "source": [
    "dataset=[11,10,12,14,12,15,14,13,15,102,12,14,17,19,107,10,13,12,14,12,108,11,14,13,15,10,15,12,14,13,15,102,12,14,17,19,107,10,13,12,14,10,10,10,11,12,10]"
   ]
  },
  {
   "cell_type": "code",
   "execution_count": 6,
   "id": "5d818b38",
   "metadata": {},
   "outputs": [
    {
     "data": {
      "text/plain": [
       "[11,\n",
       " 10,\n",
       " 12,\n",
       " 14,\n",
       " 12,\n",
       " 15,\n",
       " 14,\n",
       " 13,\n",
       " 15,\n",
       " 102,\n",
       " 12,\n",
       " 14,\n",
       " 17,\n",
       " 19,\n",
       " 107,\n",
       " 10,\n",
       " 13,\n",
       " 12,\n",
       " 14,\n",
       " 12,\n",
       " 108,\n",
       " 11,\n",
       " 14,\n",
       " 13,\n",
       " 15,\n",
       " 10,\n",
       " 15,\n",
       " 12]"
      ]
     },
     "execution_count": 6,
     "metadata": {},
     "output_type": "execute_result"
    }
   ],
   "source": [
    "dataset"
   ]
  },
  {
   "cell_type": "markdown",
   "id": "dd24659d",
   "metadata": {},
   "source": [
    "# detecting outlier using Z score"
   ]
  },
  {
   "cell_type": "markdown",
   "id": "0965771e",
   "metadata": {},
   "source": [
    "using Z Score\n",
    "Z=(X-mean)/std deviation"
   ]
  },
  {
   "cell_type": "code",
   "execution_count": 10,
   "id": "91907ef4",
   "metadata": {},
   "outputs": [],
   "source": [
    "def detect_outlier(data):\n",
    "    outlier=[]\n",
    "    threshold=3\n",
    "    mean=np.mean(data)\n",
    "    std=np.std(data)\n",
    "    \n",
    "    for i in data:\n",
    "        z_score=(i-mean)/std\n",
    "        if(np.abs(z_score)>threshold):\n",
    "            outlier.append(i);\n",
    "            print(i)\n",
    "    return outlier"
   ]
  },
  {
   "cell_type": "code",
   "execution_count": 17,
   "id": "c8392c2b",
   "metadata": {},
   "outputs": [],
   "source": [
    "outlier_pt=detect_outlier(dataset)"
   ]
  },
  {
   "cell_type": "code",
   "execution_count": 18,
   "id": "3525fef2",
   "metadata": {},
   "outputs": [
    {
     "data": {
      "text/plain": [
       "[]"
      ]
     },
     "execution_count": 18,
     "metadata": {},
     "output_type": "execute_result"
    }
   ],
   "source": [
    "outlier_pt"
   ]
  },
  {
   "cell_type": "markdown",
   "id": "b917275b",
   "metadata": {},
   "source": [
    "# Interquantile Range\n",
    "75%-25% values in dataset"
   ]
  },
  {
   "cell_type": "markdown",
   "id": "d89f1021",
   "metadata": {},
   "source": [
    "# steps\n",
    "1. sort\n",
    "2. calculate first(q1) and third quantile(3rd)\n",
    "3. find interquantile range (q3-q1)\n",
    "4. find lower bound q1*1.5\n",
    "5. find upper bound q3*1.5\n",
    "\n",
    "anything that lies outside the lower and upper bound is an outlier"
   ]
  },
  {
   "cell_type": "code",
   "execution_count": 20,
   "id": "70702ed2",
   "metadata": {},
   "outputs": [
    {
     "data": {
      "text/plain": [
       "[10,\n",
       " 10,\n",
       " 10,\n",
       " 10,\n",
       " 11,\n",
       " 11,\n",
       " 12,\n",
       " 12,\n",
       " 12,\n",
       " 12,\n",
       " 12,\n",
       " 12,\n",
       " 12,\n",
       " 12,\n",
       " 13,\n",
       " 13,\n",
       " 13,\n",
       " 13,\n",
       " 13,\n",
       " 14,\n",
       " 14,\n",
       " 14,\n",
       " 14,\n",
       " 14,\n",
       " 14,\n",
       " 14,\n",
       " 14,\n",
       " 15,\n",
       " 15,\n",
       " 15,\n",
       " 15,\n",
       " 15,\n",
       " 17,\n",
       " 17,\n",
       " 19,\n",
       " 19,\n",
       " 102,\n",
       " 102,\n",
       " 107,\n",
       " 107,\n",
       " 108]"
      ]
     },
     "execution_count": 20,
     "metadata": {},
     "output_type": "execute_result"
    }
   ],
   "source": [
    "sorted(dataset)"
   ]
  },
  {
   "cell_type": "code",
   "execution_count": 28,
   "id": "0e24429f",
   "metadata": {},
   "outputs": [],
   "source": [
    "q1,q3=np.percentile(dataset,[25,75])"
   ]
  },
  {
   "cell_type": "code",
   "execution_count": 30,
   "id": "d9ba8e87",
   "metadata": {},
   "outputs": [
    {
     "data": {
      "text/plain": [
       "12.0"
      ]
     },
     "execution_count": 30,
     "metadata": {},
     "output_type": "execute_result"
    }
   ],
   "source": [
    "q1"
   ]
  },
  {
   "cell_type": "code",
   "execution_count": 33,
   "id": "a04dc17c",
   "metadata": {},
   "outputs": [
    {
     "data": {
      "text/plain": [
       "3.0"
      ]
     },
     "execution_count": 33,
     "metadata": {},
     "output_type": "execute_result"
    }
   ],
   "source": [
    "# find the IQR\n",
    "iqr_value=q3-q1\n",
    "iqr_value"
   ]
  },
  {
   "cell_type": "code",
   "execution_count": 35,
   "id": "7eb32e54",
   "metadata": {},
   "outputs": [],
   "source": [
    "lower_bound=q1-(1.5*iqr_value)\n",
    "upper_bound=q3+(1.5*iqr_value)"
   ]
  },
  {
   "cell_type": "code",
   "execution_count": 36,
   "id": "3f251adc",
   "metadata": {},
   "outputs": [
    {
     "data": {
      "text/plain": [
       "7.5"
      ]
     },
     "execution_count": 36,
     "metadata": {},
     "output_type": "execute_result"
    }
   ],
   "source": [
    "lower_bound"
   ]
  },
  {
   "cell_type": "code",
   "execution_count": 37,
   "id": "c3165571",
   "metadata": {},
   "outputs": [
    {
     "data": {
      "text/plain": [
       "19.5"
      ]
     },
     "execution_count": 37,
     "metadata": {},
     "output_type": "execute_result"
    }
   ],
   "source": [
    "upper_bound"
   ]
  },
  {
   "cell_type": "code",
   "execution_count": null,
   "id": "4152ad1f",
   "metadata": {},
   "outputs": [],
   "source": []
  }
 ],
 "metadata": {
  "kernelspec": {
   "display_name": "Python 3 (ipykernel)",
   "language": "python",
   "name": "python3"
  },
  "language_info": {
   "codemirror_mode": {
    "name": "ipython",
    "version": 3
   },
   "file_extension": ".py",
   "mimetype": "text/x-python",
   "name": "python",
   "nbconvert_exporter": "python",
   "pygments_lexer": "ipython3",
   "version": "3.8.10"
  }
 },
 "nbformat": 4,
 "nbformat_minor": 5
}
