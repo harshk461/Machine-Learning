{
 "cells": [
  {
   "attachments": {},
   "cell_type": "markdown",
   "metadata": {},
   "source": [
    "# Tips for real world problems\n",
    "\n",
    "Real world datasets have some common issues because of how large they can be, the varying data types they hold, and how much computing power they can need to train a model.\n",
    "\n",
    "There are a few things you should watch out for with SVMs in particular:\n",
    "\n",
    "Make sure that your data are in numeric form instead of categorical form. SVMs expect numbers instead of other kinds of labels.\n",
    "\n",
    "Avoid copying data as much as possible. Some Python libraries will make duplicates of your data if they aren't in a specific format. Copying data will also slow down your training time and skew the way your model assigns the weights to a specific feature.\n",
    "\n",
    "Watch your kernel cache size because it uses your RAM. If you have a really large dataset, this could cause problems for your system.\n",
    "\n",
    "Scale your data because SVM algorithms aren't scale invariant. That means you can convert all of your data to be within the ranges of [0, 1] or [-1, 1]."
   ]
  },
  {
   "cell_type": "code",
   "execution_count": null,
   "metadata": {},
   "outputs": [],
   "source": []
  }
 ],
 "metadata": {
  "language_info": {
   "name": "python"
  },
  "orig_nbformat": 4
 },
 "nbformat": 4,
 "nbformat_minor": 2
}
